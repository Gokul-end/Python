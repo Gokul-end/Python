{
 "cells": [
  {
   "cell_type": "markdown",
   "metadata": {},
   "source": [
    "# Class01_05_Jan_2020, Class02_11_Jan_2020 & Class03_12_Jan_2020"
   ]
  },
  {
   "cell_type": "markdown",
   "metadata": {},
   "source": [
    "### Basics from Different data types (List, String and Dictionary)"
   ]
  },
  {
   "cell_type": "markdown",
   "metadata": {},
   "source": [
    "#### 1. Create a list which contains a number from 1 to 10"
   ]
  },
  {
   "cell_type": "code",
   "execution_count": 1,
   "metadata": {},
   "outputs": [
    {
     "name": "stdout",
     "output_type": "stream",
     "text": [
      "[6]\n"
     ]
    }
   ],
   "source": [
    "a = [6]\n",
    "print(a)"
   ]
  },
  {
   "cell_type": "markdown",
   "metadata": {},
   "source": [
    "#### 2. Using slice Create a list which contains middle 5 numbers in a given list of any 50 numbers"
   ]
  },
  {
   "cell_type": "code",
   "execution_count": 2,
   "metadata": {},
   "outputs": [
    {
     "name": "stdout",
     "output_type": "stream",
     "text": [
      "[1, 2, 3, 4, 5, 6, 7, 8, 9, 10, 11, 12, 13, 14, 15, 16, 17, 18, 19, 20, 21, 22, 23, 24, 25, 26, 27, 28, 29, 30, 31, 32, 33, 34, 35, 36, 37, 38, 39, 40, 41, 42, 43, 44, 45, 46, 47, 48, 49, 50]\n",
      "middle 5 numbers are [24, 25, 26, 27, 28]\n"
     ]
    }
   ],
   "source": [
    "a = (list(range(1,51)))\n",
    "print(a)\n",
    "print(\"middle 5 numbers are\",a[23:28:1])"
   ]
  },
  {
   "cell_type": "markdown",
   "metadata": {},
   "source": [
    "#### 3. Using slicing filter even and odd number"
   ]
  },
  {
   "cell_type": "code",
   "execution_count": 3,
   "metadata": {},
   "outputs": [
    {
     "name": "stdout",
     "output_type": "stream",
     "text": [
      "Original List :  [1, 2, 3, 4, 5, 6, 7, 8, 9, 10, 11, 12, 13, 14, 15, 16, 17, 18, 19, 20, 21, 22, 23, 24, 25, 26, 27, 28, 29, 30, 31, 32, 33, 34, 35, 36, 37, 38, 39, 40, 41, 42, 43, 44, 45, 46, 47, 48, 49, 50, 51, 52, 53, 54, 55, 56, 57, 58, 59, 60, 61, 62, 63, 64, 65, 66, 67, 68, 69, 70, 71, 72, 73, 74, 75, 76, 77, 78, 79, 80]\n",
      "Even Numbers :  [2, 4, 6, 8, 10, 12, 14, 16, 18, 20, 22, 24, 26, 28, 30, 32, 34, 36, 38, 40, 42, 44, 46, 48, 50, 52, 54, 56, 58, 60, 62, 64, 66, 68, 70, 72, 74, 76, 78, 80]\n",
      "Odd Numbers :  [1, 3, 5, 7, 9, 11, 13, 15, 17, 19, 21, 23, 25, 27, 29, 31, 33, 35, 37, 39, 41, 43, 45, 47, 49, 51, 53, 55, 57, 59, 61, 63, 65, 67, 69, 71, 73, 75, 77, 79]\n"
     ]
    }
   ],
   "source": [
    "a = (list(range(1,81)))\n",
    "print(\"Original List : \",a)\n",
    "print(\"Even Numbers : \",a[1::2])\n",
    "print(\"Odd Numbers : \",a[0::2])"
   ]
  },
  {
   "cell_type": "markdown",
   "metadata": {},
   "source": [
    "#### 4. Write a Python program to add key to any given dictionary"
   ]
  },
  {
   "cell_type": "code",
   "execution_count": 4,
   "metadata": {},
   "outputs": [
    {
     "name": "stdout",
     "output_type": "stream",
     "text": [
      "{2: 20, 3: 30}\n",
      "{2: 20, 3: 30, 1: 10}\n"
     ]
    }
   ],
   "source": [
    "d = {2:20, 3:30}\n",
    "print(d)\n",
    "d.update({1:10})\n",
    "print(d)"
   ]
  },
  {
   "cell_type": "markdown",
   "metadata": {},
   "source": [
    "#### 5. Write a Python program to concatenate following dictionaries to create a new one.\n",
    "\n",
    "Sample Dictionary :\n",
    "dict1={1:10, 2:20}\n",
    "dict2={3:30, 4:40}\n",
    "dict3={5:50,6:60}"
   ]
  },
  {
   "cell_type": "code",
   "execution_count": 5,
   "metadata": {},
   "outputs": [
    {
     "name": "stdout",
     "output_type": "stream",
     "text": [
      "{1: 10, 2: 20, 3: 30, 4: 40, 5: 50, 6: 60}\n"
     ]
    }
   ],
   "source": [
    "dict1={1:10, 2:20}\n",
    "dict2={3:30, 4:40}\n",
    "dict3={5:50, 6:60}\n",
    "dic4 = {}\n",
    "for d in (dict1, dict2, dict3): dic4.update(d)\n",
    "print(dic4)"
   ]
  },
  {
   "cell_type": "markdown",
   "metadata": {},
   "source": [
    "#### 6. Write a Python program to check a list is empty or not."
   ]
  },
  {
   "cell_type": "code",
   "execution_count": 6,
   "metadata": {},
   "outputs": [
    {
     "name": "stdout",
     "output_type": "stream",
     "text": [
      "List not empty\n"
     ]
    }
   ],
   "source": [
    "list = [4,5,9,100,899]\n",
    "if len(list) == 0:\n",
    "    print(\"Empty List\")\n",
    "else:\n",
    "    print(\"List not empty\")"
   ]
  },
  {
   "cell_type": "markdown",
   "metadata": {},
   "source": [
    "#### 7. Write a Python program to find the second largest number in a list [10,30,20,4,7,2,8,3]"
   ]
  },
  {
   "cell_type": "code",
   "execution_count": 7,
   "metadata": {},
   "outputs": [
    {
     "name": "stdout",
     "output_type": "stream",
     "text": [
      "Second largest element is: 20\n"
     ]
    }
   ],
   "source": [
    "list = [10,30,20,4,7,2,8,3]\n",
    "list.sort() \n",
    "print(\"Second largest element is:\", list[-2])"
   ]
  },
  {
   "cell_type": "markdown",
   "metadata": {},
   "source": [
    "#### 8. Write a Python program to get the input integer value from user to generate a list of values from 0 till the entered number by user (make sure that entered number is included in the list)"
   ]
  },
  {
   "cell_type": "code",
   "execution_count": 8,
   "metadata": {},
   "outputs": [
    {
     "name": "stdout",
     "output_type": "stream",
     "text": [
      "Enter a number : 65\n",
      "[0, 1, 2, 3, 4, 5, 6, 7, 8, 9, 10, 11, 12, 13, 14, 15, 16, 17, 18, 19, 20, 21, 22, 23, 24, 25, 26, 27, 28, 29, 30, 31, 32, 33, 34, 35, 36, 37, 38, 39, 40, 41, 42, 43, 44, 45, 46, 47, 48, 49, 50, 51, 52, 53, 54, 55, 56, 57, 58, 59, 60, 61, 62, 63, 64, 65]\n"
     ]
    }
   ],
   "source": [
    "a = int(input(\"Enter a number : \"))\n",
    "list = []\n",
    "for i in range(0,a+1):\n",
    "    list.append(i)\n",
    "print(list)"
   ]
  },
  {
   "cell_type": "markdown",
   "metadata": {},
   "source": [
    "#### 9. Write a Python program to add new Key,Value pair in {\"A\":2,\"B\":3} dictionary. Get the input \"KEY\" and \"VALUE\" from user and add to the dictionary.\n",
    "If entered KEY is existing then dont overwrite existing KEY:VALUE but print some warning message else add as new KEY/VALUE pair"
   ]
  },
  {
   "cell_type": "code",
   "execution_count": 9,
   "metadata": {},
   "outputs": [
    {
     "name": "stdout",
     "output_type": "stream",
     "text": [
      "enter the keytttt\n",
      "enter the value666\n",
      "{'A': 2, 'B': 3, 'tttt': '666'}\n"
     ]
    }
   ],
   "source": [
    "d = {\"A\":2,\"B\":3}\n",
    "a = input(\"enter the key\")\n",
    "b = input(\"enter the value\")\n",
    "c = {a : b}\n",
    "if a in d:\n",
    "    print(\"warning message : already present\")\n",
    "else:\n",
    "    d.update(c)\n",
    "print(d)"
   ]
  },
  {
   "cell_type": "markdown",
   "metadata": {
    "ExecuteTime": {
     "end_time": "2018-09-23T15:00:41.260812Z",
     "start_time": "2018-09-23T15:00:41.245212Z"
    }
   },
   "source": [
    "#### 10. Write a Python program to replace every 2nd value to zero in the given list from 0 to 19"
   ]
  },
  {
   "cell_type": "code",
   "execution_count": 32,
   "metadata": {},
   "outputs": [
    {
     "name": "stdout",
     "output_type": "stream",
     "text": [
      "[0, 0, 2, 0, 4, 0, 6, 0, 8, 0, 10, 0, 12, 0, 14, 0, 16, 0, 18, 0]\n"
     ]
    }
   ],
   "source": [
    "ls=[]\n",
    "for i in range(0,20):\n",
    "    if i% 2 != 0:\n",
    "        ls.append(0)\n",
    "    else:\n",
    "        ls.append(i)\n",
    "print(ls)"
   ]
  },
  {
   "cell_type": "markdown",
   "metadata": {},
   "source": [
    "#### 11. Using list comprehension, create a list of even and odd numbers between 1 to 100 and make sure that number is greater than 20 and less than 77"
   ]
  },
  {
   "cell_type": "code",
   "execution_count": null,
   "metadata": {},
   "outputs": [],
   "source": [
    "even = ([i for i in range(101) if i>20 and i<77 and i%2==0])\n",
    "print(\"Even list : \", even)\n",
    "odd = ([i for i in range(101) if i>20 and i<77 and i%2!=0])\n",
    "print(\"Odd list : \", odd)"
   ]
  },
  {
   "cell_type": "markdown",
   "metadata": {},
   "source": [
    "#### 12. multiply Each item of list1 with list2 elements (both are of same length). Where L1 = range(10), L2 = range(11,21). Store the result in new list. "
   ]
  },
  {
   "cell_type": "code",
   "execution_count": null,
   "metadata": {},
   "outputs": [],
   "source": [
    "l = ([i*j for i in range(10) for j in range(11,21)])\n",
    "print(l)\n",
    "type(l)"
   ]
  },
  {
   "cell_type": "markdown",
   "metadata": {},
   "source": [
    "#### 13. Using iter function print only even and odd numbers of a list between 1 to 50 (will show in next class)"
   ]
  },
  {
   "cell_type": "code",
   "execution_count": null,
   "metadata": {},
   "outputs": [],
   "source": []
  },
  {
   "cell_type": "markdown",
   "metadata": {},
   "source": [
    "#### 14. Write a Python program to count the number of characters in a string: 'google.com'\n",
    "O/p should be in the form of dictionary and each char should be used as key and their number of occurrences should be value"
   ]
  },
  {
   "cell_type": "code",
   "execution_count": null,
   "metadata": {},
   "outputs": [],
   "source": [
    "s = 'google.com'\n",
    "dict = {}\n",
    "for i in s:\n",
    "    keys = dict.keys()\n",
    "    if i in keys:\n",
    "        dict[i] = dict[i] + 1\n",
    "    else:\n",
    "        dict[i] = 1\n",
    "print(dict)"
   ]
  },
  {
   "cell_type": "markdown",
   "metadata": {},
   "source": [
    "#### 15. Write a Python program to create a list by concatenating a given list which range from 1 to n. \n",
    "Sample list : ['p', 'q']\n",
    "n =5\n",
    "Output should be : ['p1', 'q1', 'p2', 'q2', 'p3', 'q3', 'p4', 'q4', 'p5', 'q5']"
   ]
  },
  {
   "cell_type": "code",
   "execution_count": null,
   "metadata": {},
   "outputs": [],
   "source": [
    "my_list = ['p', 'q']\n",
    "n = 5\n",
    "new_list = ['{}{}'.format(x, y) for y in range(1, n+1) for x in my_list]\n",
    "print(new_list)"
   ]
  },
  {
   "cell_type": "markdown",
   "metadata": {},
   "source": [
    "#### 16.Write a Python program that accepts a string from user (use input() function),calculate and return the number of upper case letters and lower case letters count as dictionary.\n",
    "\n",
    "using inbuilt functions or using ASCII value (we can work on this solution in class if you are not able to work on it)."
   ]
  },
  {
   "cell_type": "code",
   "execution_count": null,
   "metadata": {},
   "outputs": [],
   "source": [
    "a = input(\"Enter a String : \")\n",
    "d = {\"UPPER_CASE\":0, \"LOWER_CASE\":0}\n",
    "for i in a:\n",
    "    if i.isupper():\n",
    "        d[\"UPPER_CASE\"]+=1\n",
    "    elif i.islower():\n",
    "        d[\"LOWER_CASE\"]+=1\n",
    "    else:\n",
    "        pass\n",
    "print (\"No. of Upper case characters : \", d[\"UPPER_CASE\"])\n",
    "print (\"No. of Lower case Characters : \", d[\"LOWER_CASE\"])"
   ]
  },
  {
   "cell_type": "markdown",
   "metadata": {},
   "source": [
    "#### 17.Write a Python program that accepts a hyphen-separated sequence of words as input and prints the words in a hyphen-separated sequence after sorting them alphabetically.\n",
    "\n",
    "Sample Items : green-red-yellow-black-white\n",
    "\n",
    "Expected Result : black-green-red-white-yellow"
   ]
  },
  {
   "cell_type": "code",
   "execution_count": null,
   "metadata": {},
   "outputs": [],
   "source": [
    "a = 'green-red-yellow-black-white'\n",
    "items=[n for n in a.split('-')]\n",
    "items.sort()\n",
    "print('-'.join(items))"
   ]
  },
  {
   "cell_type": "markdown",
   "metadata": {},
   "source": [
    "#### 18. Using list comprehension, create a string of binary values of each letter of word in a given sentence-> \"I am student of Data Science\"\n",
    "e.g: if a = \"Hello world\" then output should be '1001000 1100101 1101100 1101100 1101111 100000 1010111 1101111 1110010 1101100 1100100\""
   ]
  },
  {
   "cell_type": "code",
   "execution_count": null,
   "metadata": {},
   "outputs": [],
   "source": [
    "a = \"I am student of Data Science\"\n",
    "c = ' '.join(format(ord(i), 'b') for i in a)\n",
    "print(\"The Binary equvalent is \",c)"
   ]
  },
  {
   "cell_type": "code",
   "execution_count": null,
   "metadata": {},
   "outputs": [],
   "source": []
  }
 ],
 "metadata": {
  "kernelspec": {
   "display_name": "Python 3",
   "language": "python",
   "name": "python3"
  },
  "language_info": {
   "codemirror_mode": {
    "name": "ipython",
    "version": 3
   },
   "file_extension": ".py",
   "mimetype": "text/x-python",
   "name": "python",
   "nbconvert_exporter": "python",
   "pygments_lexer": "ipython3",
   "version": "3.7.4"
  },
  "latex_envs": {
   "LaTeX_envs_menu_present": true,
   "autoclose": false,
   "autocomplete": true,
   "bibliofile": "biblio.bib",
   "cite_by": "apalike",
   "current_citInitial": 1,
   "eqLabelWithNumbers": true,
   "eqNumInitial": 1,
   "hotkeys": {
    "equation": "Ctrl-E",
    "itemize": "Ctrl-I"
   },
   "labels_anchors": false,
   "latex_user_defs": false,
   "report_style_numbering": false,
   "user_envs_cfg": false
  },
  "toc": {
   "base_numbering": 1,
   "nav_menu": {},
   "number_sections": true,
   "sideBar": true,
   "skip_h1_title": false,
   "title_cell": "Table of Contents",
   "title_sidebar": "Contents",
   "toc_cell": false,
   "toc_position": {},
   "toc_section_display": true,
   "toc_window_display": false
  },
  "varInspector": {
   "cols": {
    "lenName": 16,
    "lenType": 16,
    "lenVar": 40
   },
   "kernels_config": {
    "python": {
     "delete_cmd_postfix": "",
     "delete_cmd_prefix": "del ",
     "library": "var_list.py",
     "varRefreshCmd": "print(var_dic_list())"
    },
    "r": {
     "delete_cmd_postfix": ") ",
     "delete_cmd_prefix": "rm(",
     "library": "var_list.r",
     "varRefreshCmd": "cat(var_dic_list()) "
    }
   },
   "types_to_exclude": [
    "module",
    "function",
    "builtin_function_or_method",
    "instance",
    "_Feature"
   ],
   "window_display": false
  }
 },
 "nbformat": 4,
 "nbformat_minor": 2
}
